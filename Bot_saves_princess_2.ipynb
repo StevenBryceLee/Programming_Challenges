{
  "nbformat": 4,
  "nbformat_minor": 0,
  "metadata": {
    "colab": {
      "name": "Bot saves princess - 2.ipynb",
      "provenance": [],
      "authorship_tag": "ABX9TyPF/dZ78yZaOFHkai7H0pgv",
      "include_colab_link": true
    },
    "kernelspec": {
      "name": "python3",
      "display_name": "Python 3"
    }
  },
  "cells": [
    {
      "cell_type": "markdown",
      "metadata": {
        "id": "view-in-github",
        "colab_type": "text"
      },
      "source": [
        "<a href=\"https://colab.research.google.com/github/StevenBryceLee/Programming_Challenges/blob/master/Bot_saves_princess_2.ipynb\" target=\"_parent\"><img src=\"https://colab.research.google.com/assets/colab-badge.svg\" alt=\"Open In Colab\"/></a>"
      ]
    },
    {
      "cell_type": "code",
      "metadata": {
        "id": "54H89ZpMNC8k",
        "colab_type": "code",
        "colab": {}
      },
      "source": [
        "#Solves Bot saves princess - 2\n",
        "#https://www.hackerrank.com/challenges/saveprincess2?hr_b=1"
      ],
      "execution_count": 1,
      "outputs": []
    },
    {
      "cell_type": "code",
      "metadata": {
        "id": "iBaZpdhdNVgT",
        "colab_type": "code",
        "colab": {}
      },
      "source": [
        "n = 5\n",
        "r = 2 \n",
        "c = 3\n",
        "grid = [[x for x in '-----'],\n",
        "[x for x in '-----'],\n",
        "[x for x in 'p--m-'],\n",
        "[x for x in '-----'],\n",
        "[x for x in '-----'],]"
      ],
      "execution_count": 3,
      "outputs": []
    },
    {
      "cell_type": "code",
      "metadata": {
        "id": "eb-mZoqrNwod",
        "colab_type": "code",
        "colab": {
          "base_uri": "https://localhost:8080/",
          "height": 101
        },
        "outputId": "7288c4cd-763f-4d4b-fa11-8cafa3322c8a"
      },
      "source": [
        "grid"
      ],
      "execution_count": 11,
      "outputs": [
        {
          "output_type": "execute_result",
          "data": {
            "text/plain": [
              "[['-', '-', '-', '-', '-'],\n",
              " ['-', '-', '-', '-', '-'],\n",
              " ['p', '-', '-', 'm', '-'],\n",
              " ['-', '-', '-', '-', '-'],\n",
              " ['-', '-', '-', '-', '-']]"
            ]
          },
          "metadata": {
            "tags": []
          },
          "execution_count": 11
        }
      ]
    },
    {
      "cell_type": "code",
      "metadata": {
        "id": "amLdEgujNLJH",
        "colab_type": "code",
        "colab": {
          "base_uri": "https://localhost:8080/",
          "height": 35
        },
        "outputId": "cd1a1d73-33cd-40e4-d697-48b647132763"
      },
      "source": [
        "def nextMove(n,r,c,grid):\n",
        "    #idx is the row rank, row is the whole row\n",
        "    for idx, row in enumerate(grid):\n",
        "      if 'p' in row:\n",
        "        princess = (idx,row.index('p'))\n",
        "    leftright = princess[1] - c\n",
        "    updown = princess[0] - r\n",
        "    if updown != 0:\n",
        "      return ('DOWN' if updown > 0 else 'UP' )\n",
        "    else:\n",
        "      return ('RIGHT' if leftright > 0 else 'LEFT')\n",
        "    \n",
        "nextMove(5,2,3,grid)"
      ],
      "execution_count": 32,
      "outputs": [
        {
          "output_type": "execute_result",
          "data": {
            "application/vnd.google.colaboratory.intrinsic+json": {
              "type": "string"
            },
            "text/plain": [
              "'LEFT'"
            ]
          },
          "metadata": {
            "tags": []
          },
          "execution_count": 32
        }
      ]
    },
    {
      "cell_type": "code",
      "metadata": {
        "id": "T5P6fojlO968",
        "colab_type": "code",
        "colab": {}
      },
      "source": [
        ""
      ],
      "execution_count": null,
      "outputs": []
    }
  ]
}