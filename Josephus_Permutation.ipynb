{
  "nbformat": 4,
  "nbformat_minor": 0,
  "metadata": {
    "colab": {
      "name": "Josephus Permutation.ipynb",
      "provenance": [],
      "authorship_tag": "ABX9TyOikmii52tLKy9A2X8Vp28Z",
      "include_colab_link": true
    },
    "kernelspec": {
      "name": "python3",
      "display_name": "Python 3"
    }
  },
  "cells": [
    {
      "cell_type": "markdown",
      "metadata": {
        "id": "view-in-github",
        "colab_type": "text"
      },
      "source": [
        "<a href=\"https://colab.research.google.com/github/StevenBryceLee/Programming_Challenges/blob/master/Josephus_Permutation.ipynb\" target=\"_parent\"><img src=\"https://colab.research.google.com/assets/colab-badge.svg\" alt=\"Open In Colab\"/></a>"
      ]
    },
    {
      "cell_type": "code",
      "metadata": {
        "id": "UXoBJ1_MyxBS",
        "colab_type": "code",
        "colab": {}
      },
      "source": [
        "#https://edabit.com/challenge/4AjWvJdZpFEMbGALd\n"
      ],
      "execution_count": null,
      "outputs": []
    },
    {
      "cell_type": "markdown",
      "metadata": {
        "id": "zzfkdlH-HBlr",
        "colab_type": "text"
      },
      "source": [
        "A group of n prisoners stand in a circle awaiting execution. Starting from an arbitrary position(0), the executioner kills every kth person until one person remains standing, who is then granted freedom (see examples).\n",
        "\n",
        "Create a function that takes 2 arguments — the number of people to be executed n, and the step size k, and returns the original position (index) of the person who survives."
      ]
    },
    {
      "cell_type": "code",
      "metadata": {
        "id": "o427dbmZM2J1",
        "colab_type": "code",
        "colab": {}
      },
      "source": [
        "import warnings\n",
        "warnings.filterwarnings(\"ignore\")"
      ],
      "execution_count": 41,
      "outputs": []
    },
    {
      "cell_type": "code",
      "metadata": {
        "id": "rVaCUmgsJmpc",
        "colab_type": "code",
        "colab": {
          "base_uri": "https://localhost:8080/",
          "height": 33
        },
        "outputId": "6be0ff86-cb1a-4711-bc67-4526cf87a350"
      },
      "source": [
        "prisoners = np.arange(9)\n",
        "executed = np.arange(1,len(prisoners),2)\n",
        "executed"
      ],
      "execution_count": 34,
      "outputs": [
        {
          "output_type": "execute_result",
          "data": {
            "text/plain": [
              "array([1, 3, 5, 7])"
            ]
          },
          "metadata": {
            "tags": []
          },
          "execution_count": 34
        }
      ]
    },
    {
      "cell_type": "code",
      "metadata": {
        "id": "chVpHPCmL_jf",
        "colab_type": "code",
        "colab": {
          "base_uri": "https://localhost:8080/",
          "height": 33
        },
        "outputId": "6dd5bcf4-859a-4ddf-ccb0-916c7f8a6709"
      },
      "source": [
        "executed[-1] + 2 - prisoners[-1]"
      ],
      "execution_count": 36,
      "outputs": [
        {
          "output_type": "execute_result",
          "data": {
            "text/plain": [
              "1"
            ]
          },
          "metadata": {
            "tags": []
          },
          "execution_count": 36
        }
      ]
    },
    {
      "cell_type": "code",
      "metadata": {
        "id": "24O14NjAJsEj",
        "colab_type": "code",
        "colab": {
          "base_uri": "https://localhost:8080/",
          "height": 33
        },
        "outputId": "d5071d83-671e-4d39-f1ed-c1a8e2d9cf02"
      },
      "source": [
        "prisoners = np.delete(prisoners,executed)\n",
        "prisoners"
      ],
      "execution_count": 35,
      "outputs": [
        {
          "output_type": "execute_result",
          "data": {
            "text/plain": [
              "array([0, 2, 4, 6, 8])"
            ]
          },
          "metadata": {
            "tags": []
          },
          "execution_count": 35
        }
      ]
    },
    {
      "cell_type": "code",
      "metadata": {
        "id": "Aj-_GX8GLtJ6",
        "colab_type": "code",
        "colab": {}
      },
      "source": [
        "executed[-1] + step - prisoners[-1]"
      ],
      "execution_count": null,
      "outputs": []
    },
    {
      "cell_type": "code",
      "metadata": {
        "id": "D-RO5BY4HDwc",
        "colab_type": "code",
        "colab": {
          "base_uri": "https://localhost:8080/",
          "height": 100
        },
        "outputId": "fa9a33db-ffd5-46f7-9604-d07c536dfcc5"
      },
      "source": [
        "import numpy as np\n",
        "def who_goes_free(n,step):\n",
        "  prisoners = np.arange(n)\n",
        "  print(prisoners)\n",
        "  index = step\n",
        "  while(len(prisoners) != 1):\n",
        "    #Get mask of all steps in the prisoners\n",
        "    executed = np.arange(index-1,len(prisoners),step)\n",
        "    #Reset the index location to the correct point for next round\n",
        "    index = executed[-1] + step - prisoners[-1]\n",
        "    #Execute the prisoners\n",
        "    prisoners = np.delete(prisoners,executed)\n",
        "    print(prisoners)\n",
        "  return prisoners[0]\n",
        "who_goes_free(9,2)"
      ],
      "execution_count": 44,
      "outputs": [
        {
          "output_type": "stream",
          "text": [
            "[0 1 2 3 4 5 6 7 8]\n",
            "[0 2 4 6 8]\n",
            "[2 6]\n",
            "[2]\n"
          ],
          "name": "stdout"
        },
        {
          "output_type": "execute_result",
          "data": {
            "text/plain": [
              "2"
            ]
          },
          "metadata": {
            "tags": []
          },
          "execution_count": 44
        }
      ]
    },
    {
      "cell_type": "code",
      "metadata": {
        "id": "cr6rkQ5AHdSi",
        "colab_type": "code",
        "colab": {}
      },
      "source": [
        ""
      ],
      "execution_count": null,
      "outputs": []
    }
  ]
}