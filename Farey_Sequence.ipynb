{
  "nbformat": 4,
  "nbformat_minor": 0,
  "metadata": {
    "colab": {
      "name": "Farey Sequence.ipynb",
      "provenance": [],
      "authorship_tag": "ABX9TyMKWFwfrY+c1VXKNC/+0dpK",
      "include_colab_link": true
    },
    "kernelspec": {
      "name": "python3",
      "display_name": "Python 3"
    }
  },
  "cells": [
    {
      "cell_type": "markdown",
      "metadata": {
        "id": "view-in-github",
        "colab_type": "text"
      },
      "source": [
        "<a href=\"https://colab.research.google.com/github/StevenBryceLee/Programming_Challenges/blob/master/Farey_Sequence.ipynb\" target=\"_parent\"><img src=\"https://colab.research.google.com/assets/colab-badge.svg\" alt=\"Open In Colab\"/></a>"
      ]
    },
    {
      "cell_type": "markdown",
      "metadata": {
        "id": "KthNIZqk8iaA",
        "colab_type": "text"
      },
      "source": [
        "Were makin Farey Sequences\n",
        "\n",
        "Farey Sequence\n",
        "The Farey sequence of order n is the set of all fractions with a denominator between 1 and n, reduced and returned in ascending order. Given n, return the Farey sequence as a list, with each fraction being represented by a string in the form \"numerator/denominator\".\n",
        "\n",
        "Examples\n",
        "farey(1) ➞ [\"0/1\", \"1/1\"]\n",
        "\n",
        "farey(4) ➞ [\"0/1\", \"1/4\", \"1/3\", \"1/2\", \"2/3\", \"3/4\", \"1/1\"]\n",
        "\n",
        "farey(5) ➞ [\"0/1\", \"1/5\", \"1/4\", \"1/3\", \"2/5\", \"1/2\", \"3/5\", \"2/3\", \"3/4\", \"4/5\", \"1/1\"]\n",
        "Notes\n",
        "The Farey sequence will always begin with \"0/1\" and end with \"1/1\".\n",
        "\n",
        "https://edabit.com/challenge/c6FoPFprcNW6u5oAn"
      ]
    },
    {
      "cell_type": "code",
      "metadata": {
        "id": "6XvCUWMi7icX",
        "colab_type": "code",
        "colab": {
          "base_uri": "https://localhost:8080/",
          "height": 34
        },
        "outputId": "aa656066-d9e1-4a6e-a613-c558f2fe7a8d"
      },
      "source": [
        "import numpy as np\n",
        "def gcf(num):\n",
        "  #gonna need this to get GCF as a list\n",
        "  num = int(num)\n",
        "  return [i for i in range(1,num+1) if num % i == 0]\n",
        "\n",
        "def farey(n):\n",
        "  #Create a set to prevent non-unique values\n",
        "  fareySet = set()\n",
        "  #Loop over possible fractions\n",
        "  for denominator in range(2,n+1):  \n",
        "    #Numerator must be less than denominator\n",
        "    for numerator in range(1,denominator):\n",
        "      #We're gonna need to try to reduce. Need to check for GCF\n",
        "      gcfs = set(gcf(numerator)).intersection(gcf(denominator))\n",
        "      #Get the highest common factor by multiplying all common factors\n",
        "      highest_factor = np.prod(np.array(list(gcfs)))\n",
        "      #Add reduced fraction\n",
        "      newnum = (numerator / highest_factor, denominator / highest_factor,\n",
        "                numerator/denominator)\n",
        "      #Since it's a set, it picks up my slack of not checking if I made a duplicate\n",
        "      fareySet.add(newnum)\n",
        "  #Ok we got a list of fractions as lists of numerator,denominators, and floats\n",
        "  fareyList = list(fareySet)\n",
        "  #Sort by the float value of the fraction\n",
        "  fareyList.sort(key = lambda x: x[-1])\n",
        "  #Now converting to a single list and printing\n",
        "  return ['0/1'] + ['{}/{}'.format(int(x),int(y)) for x,y,_ in fareyList] + ['1/1']\n",
        "\n",
        "print(farey(3))"
      ],
      "execution_count": 69,
      "outputs": [
        {
          "output_type": "stream",
          "text": [
            "['0/1', '1/3', '1/2', '2/3', '1/1']\n"
          ],
          "name": "stdout"
        }
      ]
    },
    {
      "cell_type": "code",
      "metadata": {
        "id": "oiYwnx5prfHo",
        "colab_type": "code",
        "colab": {
          "base_uri": "https://localhost:8080/",
          "height": 67
        },
        "outputId": "014d6963-77b6-4396-9061-5afaeac0536e"
      },
      "source": [
        "print(farey(1))\n",
        "print(farey(4))\n",
        "print(farey(5))"
      ],
      "execution_count": 70,
      "outputs": [
        {
          "output_type": "stream",
          "text": [
            "['0/1', '1/1']\n",
            "['0/1', '1/4', '1/3', '1/2', '2/3', '3/4', '1/1']\n",
            "['0/1', '1/5', '1/4', '1/3', '2/5', '1/2', '3/5', '2/3', '3/4', '4/5', '1/1']\n"
          ],
          "name": "stdout"
        }
      ]
    },
    {
      "cell_type": "code",
      "metadata": {
        "id": "bQvsd5nqu4rs",
        "colab_type": "code",
        "colab": {}
      },
      "source": [
        ""
      ],
      "execution_count": null,
      "outputs": []
    }
  ]
}