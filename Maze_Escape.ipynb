{
  "nbformat": 4,
  "nbformat_minor": 0,
  "metadata": {
    "colab": {
      "name": "Maze Escape.ipynb",
      "provenance": [],
      "authorship_tag": "ABX9TyOjqSW8KTKLabeAOc8luHZT",
      "include_colab_link": true
    },
    "kernelspec": {
      "name": "python3",
      "display_name": "Python 3"
    }
  },
  "cells": [
    {
      "cell_type": "markdown",
      "metadata": {
        "id": "view-in-github",
        "colab_type": "text"
      },
      "source": [
        "<a href=\"https://colab.research.google.com/github/StevenBryceLee/Programming_Challenges/blob/master/Maze_Escape.ipynb\" target=\"_parent\"><img src=\"https://colab.research.google.com/assets/colab-badge.svg\" alt=\"Open In Colab\"/></a>"
      ]
    },
    {
      "cell_type": "markdown",
      "metadata": {
        "id": "BDS7QTAIBEb2",
        "colab_type": "text"
      },
      "source": [
        "The purpose of this notebook is to solve Maze Escape in HackerRank\n",
        "#https://www.hackerrank.com/challenges/maze-escape?hr_b=1"
      ]
    },
    {
      "cell_type": "code",
      "metadata": {
        "id": "JWtO_RWLBBAq",
        "colab_type": "code",
        "colab": {
          "base_uri": "https://localhost:8080/",
          "height": 134
        },
        "outputId": "77ddcd45-dd64-47e2-e04e-5e567e55db39"
      },
      "source": [
        "boardstring = '''#######\n",
        "#--#-b#\n",
        "#--#--#\n",
        "#--#--#\n",
        "e-----#\n",
        "#-----#\n",
        "#######'''.split('\\n')\n",
        "wholeboard = [list(row) for row in boardstring]\n",
        "wholeboard"
      ],
      "execution_count": null,
      "outputs": [
        {
          "output_type": "execute_result",
          "data": {
            "text/plain": [
              "[['#', '#', '#', '#', '#', '#', '#'],\n",
              " ['#', '-', '-', '#', '-', 'b', '#'],\n",
              " ['#', '-', '-', '#', '-', '-', '#'],\n",
              " ['#', '-', '-', '#', '-', '-', '#'],\n",
              " ['e', '-', '-', '-', '-', '-', '#'],\n",
              " ['#', '-', '-', '-', '-', '-', '#'],\n",
              " ['#', '#', '#', '#', '#', '#', '#']]"
            ]
          },
          "metadata": {
            "tags": []
          },
          "execution_count": 2
        }
      ]
    },
    {
      "cell_type": "code",
      "metadata": {
        "id": "ZRcBGn5yEfZC",
        "colab_type": "code",
        "colab": {
          "base_uri": "https://localhost:8080/",
          "height": 67
        },
        "outputId": "ff371bc1-762f-4d83-d8be-3ac3cf95fc27"
      },
      "source": [
        "rowidx = 1\n",
        "colidx = wholeboard[1].index('b')\n",
        "smallboard = [x[colidx-1:colidx+2] for x in wholeboard[rowidx-1:rowidx+2]]\n",
        "for x in smallboard:\n",
        "  print(x)"
      ],
      "execution_count": null,
      "outputs": [
        {
          "output_type": "stream",
          "text": [
            "['#', '#', '#']\n",
            "['-', 'b', '#']\n",
            "['-', '-', '#']\n"
          ],
          "name": "stdout"
        }
      ]
    },
    {
      "cell_type": "code",
      "metadata": {
        "id": "lMKwXr1sJthi",
        "colab_type": "code",
        "colab": {
          "base_uri": "https://localhost:8080/",
          "height": 336
        },
        "outputId": "c108e3de-c725-40ba-aa8c-5dab0ed6604e"
      },
      "source": [
        "for x in range(4):\n",
        "  print()\n",
        "  #print(np.rot90(smallarr).tolist(),x+1)\n",
        "  for y in np.rot90(smallarr,x).tolist():\n",
        "    print (y)"
      ],
      "execution_count": null,
      "outputs": [
        {
          "output_type": "stream",
          "text": [
            "['#', '#', '#']\n",
            "['-', 'b', '#']\n",
            "['-', '-', '#']\n",
            "\n",
            "['#', '#', '#']\n",
            "['-', 'b', '#']\n",
            "['-', '-', '#']\n",
            "\n",
            "['#', '#', '#']\n",
            "['#', 'b', '-']\n",
            "['#', '-', '-']\n",
            "\n",
            "['#', '-', '-']\n",
            "['#', 'b', '-']\n",
            "['#', '#', '#']\n",
            "\n",
            "['-', '-', '#']\n",
            "['-', 'b', '#']\n",
            "['#', '#', '#']\n"
          ],
          "name": "stdout"
        }
      ]
    },
    {
      "cell_type": "code",
      "metadata": {
        "id": "rjXRSX3ETY9F",
        "colab_type": "code",
        "colab": {
          "base_uri": "https://localhost:8080/",
          "height": 119
        },
        "outputId": "8e1f9fd6-db15-4eac-bbab-2058169c552a"
      },
      "source": [
        "printBoard(smallboard)\n",
        "inputarr = np.array(smallboard)\n",
        "columns = list(zip(*smallboard))[1]\n",
        "print(f'\\nnp array: {inputarr[-1,:].tolist()}')\n",
        "print(smallboard[-1])"
      ],
      "execution_count": null,
      "outputs": [
        {
          "output_type": "stream",
          "text": [
            "['#', '#', '#']\n",
            "['-', 'b', '#']\n",
            "['-', '-', '#']\n",
            "\n",
            "np array: ['-', '-', '#']\n",
            "['-', '-', '#']\n"
          ],
          "name": "stdout"
        }
      ]
    },
    {
      "cell_type": "code",
      "metadata": {
        "id": "ZOJ2SGsMCIjW",
        "colab_type": "code",
        "colab": {}
      },
      "source": [
        "def nextMove(inputGrid):\n",
        "  wall = ['#']*3\n",
        "\n",
        "  #Check for exit\n",
        "  for count,row in enumerate(inputGrid):\n",
        "    if 'e' in row:\n",
        "      rowidx = count\n",
        "      colidx = row.index('e')\n",
        "      if (rowidx == 0) & (row[1] != '#'):\n",
        "        return 'UP'\n",
        "      else:\n",
        "        return 'LEFT' if colidx == 0 else 'RIGHT'\n",
        "      if (rowidx == 1):\n",
        "        return 'LEFT' if colidx == 0 else 'RIGHT'\n",
        "      if (rowidx == 2) & (row[1] != '#'):\n",
        "        return 'DOWN'\n",
        "      else:\n",
        "        return 'LEFT' if colidx == 0 else 'RIGHT'\n",
        "\n",
        "  #Find a wall to the left\n",
        "  if ((list(zip(*inputGrid))[0] == wall) & (inputGrid[0][1] != '#')):\n",
        "    return 'UP'\n",
        "  #Find a wall to the right\n",
        "  if ((list(zip(*inputGrid))[-1] == wall)  & (inputGrid[-1][1] != '#')):\n",
        "    return 'DOWN'\n",
        "  #Find a wall above\n",
        "  if ((inputGrid[0] == wall)  & (inputGrid[1][-1] != '#')):\n",
        "    return 'RIGHT'\n",
        "  #Find a wall below\n",
        "  if ((inputGrid[-1] == wall)  & (inputGrid[1][0] != '#')):\n",
        "    return 'LEFT'\n",
        "\n",
        "  #No walls found, default 'UP'\n",
        "  if  (inputGrid[0][1] != '#'):\n",
        "    return 'UP'\n",
        "  elif (inputGrid[1][-1] != '#'):\n",
        "    return 'RIGHT'\n",
        "  elif (inputGrid[-1][1] != '#'):\n",
        "    return 'DOWN'\n",
        "  else:\n",
        "    return 'LEFT'\n",
        "\n",
        "#Check if the bot has reached the exit\n",
        "def checkDone(inputBoard):\n",
        "  for count,row in enumerate(inputBoard):\n",
        "      if 'e' in row:\n",
        "        return False\n",
        "  return True\n",
        "\n",
        "def printBoard(inputBoard):\n",
        "  for x in inputBoard:\n",
        "    print(x)\n",
        "\n",
        "def Simulate(inputBoard):\n",
        "  #Create the initial board position from the POV of the bot\n",
        "  orientation = ['UP','LEFT','DOWN','RIGHT']\n",
        "  orient = orientation[np.random.choice(len(orientation))]\n",
        "  print(f'starting orientation: {orient}\\n')\n",
        "  #Start the position\n",
        "  smallboard,position = botView(inputBoard,orient)\n",
        "\n",
        "  print('Initial Board\\n')\n",
        "  printBoard(smallboard)\n",
        "  #Return the new position of the bot\n",
        "  moveDict = {'UP':{'LEFT':(0,-1),\n",
        "                    'RIGHT':(0,1),\n",
        "                    'UP':(-1,0),\n",
        "                    'DOWN':(1,0)},\n",
        "              'DOWN':{'RIGHT':(0,-1),\n",
        "                    'LEFT':(0,1),\n",
        "                    'DOWN':(-1,0),\n",
        "                    'UP':(1,0)},\n",
        "              'LEFT':{'UP':(0,-1),\n",
        "                    'DOWN':(0,1),\n",
        "                    'LEFT':(1,0),\n",
        "                    'RIGHT':(-1,0)},\n",
        "              'RIGHT':{'DOWN':(0,-1),\n",
        "                    'UP':(0,1),\n",
        "                    'RIGHT':(1,0),\n",
        "                    'LEFT':(-1,0)}}\n",
        "\n",
        "  #for i in range(3):\n",
        "  while(not checkDone(inputBoard)):\n",
        "    #Get the next move\n",
        "    move = nextMove(smallboard)\n",
        "    print(f'Given orientation and move: {orient} {move}')\n",
        "    #Update the large board\n",
        "    newrow,newcol = np.array(position) + np.array(moveDict[orient][move])\n",
        "    #Update the bot orientation\n",
        "    orientIdx = (orientation.index(orient) + orientation.index(move)) % len(orientation)\n",
        "    orient = orientation[orientIdx]\n",
        "    print(f'new orientation: {orient} index: {orientIdx}')\n",
        "    inputBoard[newrow][newcol] = 'b'\n",
        "    inputBoard[position[0]][position[1]] = '-'\n",
        "    \n",
        "    #Update the small board\n",
        "    smallboard, position = botView(inputBoard,orient)\n",
        "    printBoard(smallboard)\n",
        "    print()\n",
        "\n",
        "    printBoard(inputBoard)\n",
        "\n",
        "\n",
        "def botView(wholeGrid,direction):\n",
        "  rowidx = 0\n",
        "  colidx = 0\n",
        "  #print(f'in botView, direction: {direction}')\n",
        "  for count,row in enumerate(wholeboard):\n",
        "    if 'b' in row:\n",
        "      rowidx = count\n",
        "      colidx = row.index('b')\n",
        "    \n",
        "  smallGrid = [row[colidx-1:colidx+2] for row in wholeGrid[rowidx-1:rowidx+2]]\n",
        "  #Define the number of rotations\n",
        "  rotDict = {'UP':0,'DOWN':2,'RIGHT':1,'LEFT':3}\n",
        "  return (np.rot90(smallGrid,rotDict[direction]).tolist()\n",
        "          ,(rowidx,colidx)\n",
        "          )"
      ],
      "execution_count": 13,
      "outputs": []
    },
    {
      "cell_type": "code",
      "metadata": {
        "id": "CMTKOXCwNxg3",
        "colab_type": "code",
        "colab": {
          "base_uri": "https://localhost:8080/",
          "height": 1000
        },
        "outputId": "eaf59347-0721-4e56-f4f9-2a6abc9af543"
      },
      "source": [
        "import numpy as np\n",
        "boardstring = '''#######\n",
        "#--#-b#\n",
        "#--#--#\n",
        "#--#--#\n",
        "e-----#\n",
        "#-----#\n",
        "#######'''.split('\\n')\n",
        "wholeboard = [list(row) for row in boardstring]\n",
        "\n",
        "Simulate(wholeboard)"
      ],
      "execution_count": 14,
      "outputs": [
        {
          "output_type": "stream",
          "text": [
            "starting orientation: LEFT\n",
            "\n",
            "Initial Board\n",
            "\n",
            "['-', '-', '#']\n",
            "['-', 'b', '#']\n",
            "['#', '#', '#']\n",
            "Given orientation and move: LEFT LEFT\n",
            "new orientation: DOWN index: 2\n",
            "['#', '-', '-']\n",
            "['#', 'b', '-']\n",
            "['#', '-', '-']\n",
            "\n",
            "['#', '#', '#', '#', '#', '#', '#']\n",
            "['#', '-', '-', '#', '-', '-', '#']\n",
            "['#', '-', '-', '#', '-', 'b', '#']\n",
            "['#', '-', '-', '#', '-', '-', '#']\n",
            "['e', '-', '-', '-', '-', '-', '#']\n",
            "['#', '-', '-', '-', '-', '-', '#']\n",
            "['#', '#', '#', '#', '#', '#', '#']\n",
            "Given orientation and move: DOWN UP\n",
            "new orientation: DOWN index: 2\n",
            "['#', '-', '-']\n",
            "['#', 'b', '-']\n",
            "['#', '-', '-']\n",
            "\n",
            "['#', '#', '#', '#', '#', '#', '#']\n",
            "['#', '-', '-', '#', '-', '-', '#']\n",
            "['#', '-', '-', '#', '-', '-', '#']\n",
            "['#', '-', '-', '#', '-', 'b', '#']\n",
            "['e', '-', '-', '-', '-', '-', '#']\n",
            "['#', '-', '-', '-', '-', '-', '#']\n",
            "['#', '#', '#', '#', '#', '#', '#']\n",
            "Given orientation and move: DOWN UP\n",
            "new orientation: DOWN index: 2\n",
            "['#', '-', '-']\n",
            "['#', 'b', '-']\n",
            "['#', '-', '-']\n",
            "\n",
            "['#', '#', '#', '#', '#', '#', '#']\n",
            "['#', '-', '-', '#', '-', '-', '#']\n",
            "['#', '-', '-', '#', '-', '-', '#']\n",
            "['#', '-', '-', '#', '-', '-', '#']\n",
            "['e', '-', '-', '-', '-', 'b', '#']\n",
            "['#', '-', '-', '-', '-', '-', '#']\n",
            "['#', '#', '#', '#', '#', '#', '#']\n",
            "Given orientation and move: DOWN UP\n",
            "new orientation: DOWN index: 2\n",
            "['#', '#', '#']\n",
            "['#', 'b', '-']\n",
            "['#', '-', '-']\n",
            "\n",
            "['#', '#', '#', '#', '#', '#', '#']\n",
            "['#', '-', '-', '#', '-', '-', '#']\n",
            "['#', '-', '-', '#', '-', '-', '#']\n",
            "['#', '-', '-', '#', '-', '-', '#']\n",
            "['e', '-', '-', '-', '-', '-', '#']\n",
            "['#', '-', '-', '-', '-', 'b', '#']\n",
            "['#', '#', '#', '#', '#', '#', '#']\n",
            "Given orientation and move: DOWN RIGHT\n",
            "new orientation: LEFT index: 1\n",
            "['#', '-', '-']\n",
            "['#', 'b', '-']\n",
            "['#', '-', '-']\n",
            "\n",
            "['#', '#', '#', '#', '#', '#', '#']\n",
            "['#', '-', '-', '#', '-', '-', '#']\n",
            "['#', '-', '-', '#', '-', '-', '#']\n",
            "['#', '-', '-', '#', '-', '-', '#']\n",
            "['e', '-', '-', '-', '-', '-', '#']\n",
            "['#', '-', '-', '-', 'b', '-', '#']\n",
            "['#', '#', '#', '#', '#', '#', '#']\n",
            "Given orientation and move: LEFT UP\n",
            "new orientation: LEFT index: 1\n",
            "['#', '-', '-']\n",
            "['#', 'b', '-']\n",
            "['#', '-', '-']\n",
            "\n",
            "['#', '#', '#', '#', '#', '#', '#']\n",
            "['#', '-', '-', '#', '-', '-', '#']\n",
            "['#', '-', '-', '#', '-', '-', '#']\n",
            "['#', '-', '-', '#', '-', '-', '#']\n",
            "['e', '-', '-', '-', '-', '-', '#']\n",
            "['#', '-', '-', 'b', '-', '-', '#']\n",
            "['#', '#', '#', '#', '#', '#', '#']\n",
            "Given orientation and move: LEFT UP\n",
            "new orientation: LEFT index: 1\n",
            "['#', '-', '-']\n",
            "['#', 'b', '-']\n",
            "['#', '-', '-']\n",
            "\n",
            "['#', '#', '#', '#', '#', '#', '#']\n",
            "['#', '-', '-', '#', '-', '-', '#']\n",
            "['#', '-', '-', '#', '-', '-', '#']\n",
            "['#', '-', '-', '#', '-', '-', '#']\n",
            "['e', '-', '-', '-', '-', '-', '#']\n",
            "['#', '-', 'b', '-', '-', '-', '#']\n",
            "['#', '#', '#', '#', '#', '#', '#']\n",
            "Given orientation and move: LEFT UP\n",
            "new orientation: LEFT index: 1\n",
            "['#', '#', 'e']\n",
            "['#', 'b', '-']\n",
            "['#', '-', '-']\n",
            "\n",
            "['#', '#', '#', '#', '#', '#', '#']\n",
            "['#', '-', '-', '#', '-', '-', '#']\n",
            "['#', '-', '-', '#', '-', '-', '#']\n",
            "['#', '-', '-', '#', '-', '-', '#']\n",
            "['e', '-', '-', '-', '-', '-', '#']\n",
            "['#', 'b', '-', '-', '-', '-', '#']\n",
            "['#', '#', '#', '#', '#', '#', '#']\n",
            "Given orientation and move: LEFT RIGHT\n",
            "new orientation: UP index: 0\n",
            "['#', '-', '-']\n",
            "['e', 'b', '-']\n",
            "['#', '-', '-']\n",
            "\n",
            "['#', '#', '#', '#', '#', '#', '#']\n",
            "['#', '-', '-', '#', '-', '-', '#']\n",
            "['#', '-', '-', '#', '-', '-', '#']\n",
            "['#', '-', '-', '#', '-', '-', '#']\n",
            "['e', 'b', '-', '-', '-', '-', '#']\n",
            "['#', '-', '-', '-', '-', '-', '#']\n",
            "['#', '#', '#', '#', '#', '#', '#']\n",
            "Given orientation and move: UP LEFT\n",
            "new orientation: LEFT index: 1\n",
            "\n",
            "['#', '#', '#', '#', '#', '#', '#']\n",
            "['#', '-', '-', '#', '-', '-', '#']\n",
            "['#', '-', '-', '#', '-', '-', '#']\n",
            "['#', '-', '-', '#', '-', '-', '#']\n",
            "['b', '-', '-', '-', '-', '-', '#']\n",
            "['#', '-', '-', '-', '-', '-', '#']\n",
            "['#', '#', '#', '#', '#', '#', '#']\n"
          ],
          "name": "stdout"
        }
      ]
    },
    {
      "cell_type": "code",
      "metadata": {
        "id": "kKZ6YezdCOBf",
        "colab_type": "code",
        "colab": {}
      },
      "source": [
        ""
      ],
      "execution_count": null,
      "outputs": []
    }
  ]
}