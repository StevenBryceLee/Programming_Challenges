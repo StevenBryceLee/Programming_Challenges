{
  "nbformat": 4,
  "nbformat_minor": 0,
  "metadata": {
    "colab": {
      "name": "PathToPrincess.ipynb",
      "provenance": [],
      "authorship_tag": "ABX9TyM/VFUcv3nsLDKVMc0BTr5j",
      "include_colab_link": true
    },
    "kernelspec": {
      "name": "python3",
      "display_name": "Python 3"
    }
  },
  "cells": [
    {
      "cell_type": "markdown",
      "metadata": {
        "id": "view-in-github",
        "colab_type": "text"
      },
      "source": [
        "<a href=\"https://colab.research.google.com/github/StevenBryceLee/Programming_Challenges/blob/master/PathToPrincess.ipynb\" target=\"_parent\"><img src=\"https://colab.research.google.com/assets/colab-badge.svg\" alt=\"Open In Colab\"/></a>"
      ]
    },
    {
      "cell_type": "markdown",
      "metadata": {
        "id": "1F7IwIXCLaek",
        "colab_type": "text"
      },
      "source": [
        "This notebook solves Bot Saves Princess from hackerrank\n",
        "\n",
        "https://www.hackerrank.com/challenges/saveprincess?hr_b=1"
      ]
    },
    {
      "cell_type": "code",
      "metadata": {
        "id": "4vo24aVQLOBQ",
        "colab_type": "code",
        "colab": {}
      },
      "source": [
        "#First pass\n",
        "def displayPathtoPrincess(n,grid):\n",
        "    printer = []\n",
        "    for row in range(n):\n",
        "        for col in range(n):\n",
        "            if grid[row][col] == 'p':\n",
        "                path = (row - n//2,col - n//2)\n",
        "                break\n",
        "    if path[0] < 0:\n",
        "        printer.append(' '.join(['UP '] * abs(path[0])))\n",
        "    else:\n",
        "        printer.append(' '.join(['DOWN '] * abs(path[0])))\n",
        "    if path[1] < 0:\n",
        "        printer.append(' '.join(['LEFT '] * abs(path[0])))\n",
        "    else:\n",
        "        printer.append(' '.join(['RIGHT '] * abs(path[0])))\n",
        "    final = ' '.join(printer)\n",
        "    for instruction in final.split(' '):\n",
        "        print(instruction)"
      ],
      "execution_count": 1,
      "outputs": []
    },
    {
      "cell_type": "code",
      "metadata": {
        "id": "u9-xqq6FLlwE",
        "colab_type": "code",
        "colab": {
          "base_uri": "https://localhost:8080/",
          "height": 50
        },
        "outputId": "80be8681-4d12-433a-e809-6b61f74dcd5b"
      },
      "source": [
        "grid = [['-','-','-'],\n",
        "['-','m','-'],\n",
        "['p','-','-']]\n",
        "\n",
        "displayPathtoPrincess(len(grid[0]),grid)"
      ],
      "execution_count": 4,
      "outputs": [
        {
          "output_type": "stream",
          "text": [
            "DOWN\n",
            "LEFT\n"
          ],
          "name": "stdout"
        }
      ]
    },
    {
      "cell_type": "code",
      "metadata": {
        "id": "VKc9CxJSL869",
        "colab_type": "code",
        "colab": {}
      },
      "source": [
        ""
      ],
      "execution_count": null,
      "outputs": []
    }
  ]
}