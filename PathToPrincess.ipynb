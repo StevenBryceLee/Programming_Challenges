{
  "nbformat": 4,
  "nbformat_minor": 0,
  "metadata": {
    "colab": {
      "name": "PathToPrincess.ipynb",
      "provenance": [],
      "authorship_tag": "ABX9TyPIAPSNlX14hXxf5t4uDhMB",
      "include_colab_link": true
    },
    "kernelspec": {
      "name": "python3",
      "display_name": "Python 3"
    }
  },
  "cells": [
    {
      "cell_type": "markdown",
      "metadata": {
        "id": "view-in-github",
        "colab_type": "text"
      },
      "source": [
        "<a href=\"https://colab.research.google.com/github/StevenBryceLee/Programming_Challenges/blob/master/PathToPrincess.ipynb\" target=\"_parent\"><img src=\"https://colab.research.google.com/assets/colab-badge.svg\" alt=\"Open In Colab\"/></a>"
      ]
    },
    {
      "cell_type": "markdown",
      "metadata": {
        "id": "1F7IwIXCLaek",
        "colab_type": "text"
      },
      "source": [
        "This notebook solves Bot Saves Princess from hackerrank\n",
        "\n",
        "https://www.hackerrank.com/challenges/saveprincess?hr_b=1"
      ]
    },
    {
      "cell_type": "code",
      "metadata": {
        "id": "4vo24aVQLOBQ",
        "colab_type": "code",
        "colab": {}
      },
      "source": [
        "#First pass\n",
        "def displayPathtoPrincess(n,grid):\n",
        "    printer = []\n",
        "    for row in range(n):\n",
        "        for col in range(n):\n",
        "            if grid[row][col] == 'p':\n",
        "                path = (row - n//2,col - n//2)\n",
        "                break\n",
        "    if path[0] < 0:\n",
        "        printer.append(' '.join(['UP '] * abs(path[0])))\n",
        "    else:\n",
        "        printer.append(' '.join(['DOWN '] * abs(path[0])))\n",
        "    if path[1] < 0:\n",
        "        printer.append(' '.join(['LEFT '] * abs(path[0])))\n",
        "    else:\n",
        "        printer.append(' '.join(['RIGHT '] * abs(path[0])))\n",
        "    final = ' '.join(printer)\n",
        "    for instruction in final.split(' '):\n",
        "        print(instruction)"
      ],
      "execution_count": null,
      "outputs": []
    },
    {
      "cell_type": "code",
      "metadata": {
        "id": "u9-xqq6FLlwE",
        "colab_type": "code",
        "colab": {
          "base_uri": "https://localhost:8080/",
          "height": 50
        },
        "outputId": "80be8681-4d12-433a-e809-6b61f74dcd5b"
      },
      "source": [
        "grid = [['-','-','-'],\n",
        "['-','m','-'],\n",
        "['p','-','-']]\n",
        "\n",
        "displayPathtoPrincess(len(grid[0]),grid)"
      ],
      "execution_count": null,
      "outputs": [
        {
          "output_type": "stream",
          "text": [
            "DOWN\n",
            "LEFT\n"
          ],
          "name": "stdout"
        }
      ]
    },
    {
      "cell_type": "code",
      "metadata": {
        "id": "x5DcvgTeOsvK",
        "colab_type": "code",
        "colab": {
          "base_uri": "https://localhost:8080/",
          "height": 34
        },
        "outputId": "9e2a9ecd-6087-4db2-8132-ceba470b0825"
      },
      "source": [
        "[' '.join(gridrow) for gridrow in grid]"
      ],
      "execution_count": null,
      "outputs": [
        {
          "output_type": "execute_result",
          "data": {
            "text/plain": [
              "['- - -', '- m -', 'p - -']"
            ]
          },
          "metadata": {
            "tags": []
          },
          "execution_count": 12
        }
      ]
    },
    {
      "cell_type": "code",
      "metadata": {
        "id": "IY76GQw7Oc1U",
        "colab_type": "code",
        "colab": {
          "base_uri": "https://localhost:8080/",
          "height": 35
        },
        "outputId": "993646df-7e4e-4f2f-b1a9-ba0502e7b4c0"
      },
      "source": [
        "flat = ''.join([''.join(gridrow) for gridrow in grid])"
      ],
      "execution_count": null,
      "outputs": [
        {
          "output_type": "execute_result",
          "data": {
            "application/vnd.google.colaboratory.intrinsic+json": {
              "type": "string"
            },
            "text/plain": [
              "'----m-p--'"
            ]
          },
          "metadata": {
            "tags": []
          },
          "execution_count": 37
        }
      ]
    },
    {
      "cell_type": "code",
      "metadata": {
        "id": "qeEOd4ymQKO3",
        "colab_type": "code",
        "colab": {
          "base_uri": "https://localhost:8080/",
          "height": 34
        },
        "outputId": "ad93e992-8430-4e16-a206-860ad1f64467"
      },
      "source": [
        "7//3"
      ],
      "execution_count": null,
      "outputs": [
        {
          "output_type": "execute_result",
          "data": {
            "text/plain": [
              "2"
            ]
          },
          "metadata": {
            "tags": []
          },
          "execution_count": 25
        }
      ]
    },
    {
      "cell_type": "code",
      "metadata": {
        "id": "uJo1QBkhN39M",
        "colab_type": "code",
        "colab": {}
      },
      "source": [
        "row = flat.find('p')\n",
        "cpos = row % 3\n",
        "rpos = row // 3\n",
        "ppos = (rpos - n//2,cpos - n//2)"
      ],
      "execution_count": null,
      "outputs": []
    },
    {
      "cell_type": "code",
      "metadata": {
        "id": "mkLSkOmIPWM3",
        "colab_type": "code",
        "colab": {}
      },
      "source": [
        "n = len(grid[0])\n",
        "path = []\n",
        "# if path[0] < 0:\n",
        "#     printer.append(' '.join(['UP '] * abs(path[0])))\n",
        "# else:\n",
        "#     printer.append(' '.join(['DOWN '] * abs(path[0])))\n",
        "# if path[1] < 0:\n",
        "#     printer.append(' '.join(['LEFT '] * abs(path[0])))\n",
        "# else:\n",
        "#     printer.append(' '.join(['RIGHT '] * abs(path[0])))\n",
        "#row is less than mario\n",
        "if ppos[0] < 0:\n",
        "  path.append('UP ' * abs(ppos[0]))\n",
        "else:\n",
        "  path.append('DOWN ' * abs(ppos[0]))\n",
        "if ppos[1] < 0:\n",
        "  path.append('LEFT ' * abs(ppos[1]))\n",
        "else:\n",
        "  path.append('RIGHT ' * abs(ppos[1]))"
      ],
      "execution_count": null,
      "outputs": []
    },
    {
      "cell_type": "code",
      "metadata": {
        "id": "szsDm7rXR05M",
        "colab_type": "code",
        "colab": {
          "base_uri": "https://localhost:8080/",
          "height": 34
        },
        "outputId": "fd3aee9b-f3e4-42af-ca6a-ee69244328af"
      },
      "source": [
        "path"
      ],
      "execution_count": null,
      "outputs": [
        {
          "output_type": "execute_result",
          "data": {
            "text/plain": [
              "['DOWN ', 'LEFT ']"
            ]
          },
          "metadata": {
            "tags": []
          },
          "execution_count": 54
        }
      ]
    },
    {
      "cell_type": "code",
      "metadata": {
        "id": "tDF98oY6R1rT",
        "colab_type": "code",
        "colab": {
          "base_uri": "https://localhost:8080/",
          "height": 67
        },
        "outputId": "eb5b8db7-857f-41dd-8ef5-b12c377015dc"
      },
      "source": [
        "for instruction in ''.join(path).split(' '):\n",
        "  print(instruction)"
      ],
      "execution_count": null,
      "outputs": [
        {
          "output_type": "stream",
          "text": [
            "DOWN\n",
            "LEFT\n",
            "\n"
          ],
          "name": "stdout"
        }
      ]
    },
    {
      "cell_type": "code",
      "metadata": {
        "id": "CXwxVRP5SrKG",
        "colab_type": "code",
        "colab": {
          "base_uri": "https://localhost:8080/",
          "height": 67
        },
        "outputId": "74fc4d93-d1a0-46d0-c1c1-0d5924fdb60b"
      },
      "source": [
        "def displayPathtoPrincess(n,grid):\n",
        "    path = []\n",
        "    #Squash the grid\n",
        "    flat = ''.join([''.join(gridrow) for gridrow in grid])\n",
        "    #Get the index and steps to get to the princess\n",
        "    row = flat.find('p')\n",
        "    cpos = row % 3\n",
        "    rpos = row // 3\n",
        "    ppos = (rpos - n//2,cpos - n//2)\n",
        "    #Write the list\n",
        "    if ppos[0] < 0:\n",
        "      path.append('UP ' * abs(ppos[0]))\n",
        "    else:\n",
        "      path.append('DOWN ' * abs(ppos[0]))\n",
        "    if ppos[1] < 0:\n",
        "      path.append('LEFT ' * abs(ppos[1]))\n",
        "    else:\n",
        "      path.append('RIGHT ' * abs(ppos[1]))\n",
        "\n",
        "    for instruction in ''.join(path).split(' '):\n",
        "      print(instruction)\n",
        "\n",
        "\n",
        "displayPathtoPrincess(len(grid[0]),grid)"
      ],
      "execution_count": null,
      "outputs": [
        {
          "output_type": "stream",
          "text": [
            "DOWN\n",
            "LEFT\n",
            "\n"
          ],
          "name": "stdout"
        }
      ]
    },
    {
      "cell_type": "code",
      "metadata": {
        "id": "MlVWBaGxTXTh",
        "colab_type": "code",
        "colab": {
          "base_uri": "https://localhost:8080/",
          "height": 84
        },
        "outputId": "eef8aa5b-969f-432c-b617-c2b042ee8917"
      },
      "source": [
        "#All other versions didn't work, but this one did!\n",
        "grid = [['-','-','-'],\n",
        "['-','m','-'],\n",
        "['p','-','-']]\n",
        "def displayPathtoPrincess(n,grid):\n",
        "    for idx, row in enumerate(grid):\n",
        "      if 'p' in row:\n",
        "        princess = (idx,row.index('p'))\n",
        "      if 'm' in row:\n",
        "        mario = (idx, row.index('m'))\n",
        "    leftright = princess[1] - mario[1]\n",
        "    updown = princess[0] - mario[0]\n",
        "    print('\\n'.join(['DOWN' if updown > 0 else 'UP'] * abs(updown) ))\n",
        "    print('\\n'.join(['RIGHT' if leftright > 0 else 'LEFT'] * abs(leftright)))\n",
        "    \n",
        "displayPathtoPrincess(len(grid[0]),grid)"
      ],
      "execution_count": 15,
      "outputs": [
        {
          "output_type": "stream",
          "text": [
            "DOWN\n",
            "DOWN\n",
            "DOWN\n",
            "LEFT\n"
          ],
          "name": "stdout"
        }
      ]
    }
  ]
}